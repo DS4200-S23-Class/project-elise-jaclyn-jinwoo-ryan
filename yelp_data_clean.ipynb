{
 "cells": [
  {
   "cell_type": "code",
   "execution_count": 1,
   "id": "a55cb160",
   "metadata": {},
   "outputs": [],
   "source": [
    "import pandas as pd"
   ]
  },
  {
   "cell_type": "code",
   "execution_count": 2,
   "id": "e3086b0b",
   "metadata": {},
   "outputs": [],
   "source": [
    "bu = pd.read_csv(\"yelp_business.csv\")"
   ]
  },
  {
   "cell_type": "code",
   "execution_count": 3,
   "id": "91ff2ab0",
   "metadata": {},
   "outputs": [],
   "source": [
    "# Removes all values that are not in Santa Barbara\n",
    "bu = bu[bu[\"city\"] == \"Santa Barbara\"]"
   ]
  },
  {
   "cell_type": "code",
   "execution_count": 4,
   "id": "41214ba9",
   "metadata": {},
   "outputs": [],
   "source": [
    "# Removes all values that are not restaurants\n",
    "bu[\"categories\"] = bu[\"categories\"].astype(\"str\")\n",
    "bu[\"categories\"] = bu[\"categories\"].apply(lambda x: set(x.split(\", \")))\n",
    "\n",
    "word_list = [\"Restaurants\", \"Food\", \"Restaurant\"]\n",
    "bu[\"categories\"] = bu[\"categories\"].apply(lambda x: x.intersection(word_list))\n",
    "bu = bu[bu[\"categories\"] != set()]"
   ]
  },
  {
   "cell_type": "code",
   "execution_count": 5,
   "id": "a04a6f66",
   "metadata": {},
   "outputs": [],
   "source": [
    "# Removes all values that are not open\n",
    "bu = bu[bu[\"is_open\"] == 1]"
   ]
  },
  {
   "cell_type": "code",
   "execution_count": 6,
   "id": "5f6930e3",
   "metadata": {},
   "outputs": [],
   "source": [
    "# Drops unnessescary columns and does some formatting \n",
    "bu = bu.drop(columns=['_id', 'city', 'is_open', 'state', 'categories'])\n",
    "bu[\"attributes.RestaurantsTakeOut\"].fillna(\"False\", inplace = True)\n",
    "bu[\"attributes.RestaurantsTakeOut\"] = bu[\"attributes.RestaurantsTakeOut\"].replace(\"None\", \"False\")\n",
    "bu = bu.rename(columns={\"attributes.RestaurantsTakeOut\":\"take_out\"})"
   ]
  },
  {
   "cell_type": "code",
   "execution_count": 8,
   "id": "5c56e53f",
   "metadata": {},
   "outputs": [],
   "source": [
    "# Reads the reviews csv\n",
    "re = pd.read_csv(\"yelp_review.csv\")"
   ]
  },
  {
   "cell_type": "code",
   "execution_count": 9,
   "id": "2beea246",
   "metadata": {},
   "outputs": [],
   "source": [
    "# Make the st series which is indexed by tuples of business id and star value eg (\"thisisanid\", 1)\n",
    "re = pd.merge(bu, re, how ='inner', on =['business_id']).drop(columns=[\"address\", \"take_out\", \"latitude\", \"longitude\", \"name\", \n",
    "                                                               \"review_count\", \"stars_x\"]).rename(columns={\"stars_y\":\"stars\"})\n",
    "st = re.groupby([\"business_id\", \"stars\"]).count()['review_id']"
   ]
  },
  {
   "cell_type": "code",
   "execution_count": 10,
   "id": "e5fb2c01",
   "metadata": {},
   "outputs": [],
   "source": [
    "# Iterates through st and makes lists of star values, and adds them to the dictionary with the business id as the code\n",
    "# stars[\"thisisanid\"] = [0,0,0,10,50] is a for a business with id \"thisisanid\" that got 0 1,2, and 3 star reviews, 10 4 star and 50 5 star\n",
    "stars = {}\n",
    "for key in st.index:\n",
    "    if key[0] not in stars:\n",
    "        stars[key[0]] = [0,0,0,0,0]\n",
    "\n",
    "    stars[key[0]][key[1]-1] = st[key]"
   ]
  },
  {
   "cell_type": "code",
   "execution_count": 11,
   "id": "6c13f26b",
   "metadata": {},
   "outputs": [],
   "source": [
    "# sorts bu\n",
    "bu = bu.sort_values(by='business_id')"
   ]
  },
  {
   "cell_type": "code",
   "execution_count": 12,
   "id": "4953dbf7",
   "metadata": {},
   "outputs": [],
   "source": [
    "# adds star lists to bu\n",
    "bu['stars'] = stars.values()"
   ]
  },
  {
   "cell_type": "code",
   "execution_count": 13,
   "id": "fb81e331",
   "metadata": {},
   "outputs": [],
   "source": [
    "# writes bu to the csv\n",
    "bu.to_csv('yelp_business_clean.csv', index=False)"
   ]
  },
  {
   "cell_type": "code",
   "execution_count": null,
   "id": "c6878695",
   "metadata": {},
   "outputs": [],
   "source": []
  }
 ],
 "metadata": {
  "kernelspec": {
   "display_name": "Python 3 (ipykernel)",
   "language": "python",
   "name": "python3"
  },
  "language_info": {
   "codemirror_mode": {
    "name": "ipython",
    "version": 3
   },
   "file_extension": ".py",
   "mimetype": "text/x-python",
   "name": "python",
   "nbconvert_exporter": "python",
   "pygments_lexer": "ipython3",
   "version": "3.9.15"
  }
 },
 "nbformat": 4,
 "nbformat_minor": 5
}
