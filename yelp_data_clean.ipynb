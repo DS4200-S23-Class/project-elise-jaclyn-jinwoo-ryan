{
 "cells": [
  {
   "cell_type": "code",
   "execution_count": 1,
   "id": "a55cb160",
   "metadata": {},
   "outputs": [],
   "source": [
    "import pandas as pd"
   ]
  },
  {
   "cell_type": "code",
   "execution_count": 2,
   "id": "e3086b0b",
   "metadata": {},
   "outputs": [],
   "source": [
    "bu = pd.read_csv(\"yelp_business.csv\")"
   ]
  },
  {
   "cell_type": "code",
   "execution_count": 3,
   "id": "91ff2ab0",
   "metadata": {},
   "outputs": [],
   "source": [
    "# Removes all values that are not in Santa Barbara\n",
    "bu = bu[bu[\"city\"] == \"Santa Barbara\"]"
   ]
  },
  {
   "cell_type": "code",
   "execution_count": 4,
   "id": "41214ba9",
   "metadata": {},
   "outputs": [],
   "source": [
    "# Removes all values that are not restaurants\n",
    "bu[\"categories\"] = bu[\"categories\"].astype(\"str\")\n",
    "bu[\"categories\"] = bu[\"categories\"].apply(lambda x: set(x.split(\", \")))\n",
    "\n",
    "word_list = [\"Restaurants\", \"Food\", \"Restaurant\"]\n",
    "bu[\"categories\"] = bu[\"categories\"].apply(lambda x: x.intersection(word_list))\n",
    "bu = bu[bu[\"categories\"] != set()]"
   ]
  },
  {
   "cell_type": "code",
   "execution_count": 5,
   "id": "a04a6f66",
   "metadata": {},
   "outputs": [],
   "source": [
    "# Removes all values that are not open\n",
    "bu = bu[bu[\"is_open\"] == 1]"
   ]
  },
  {
   "cell_type": "code",
   "execution_count": 6,
   "id": "5f6930e3",
   "metadata": {},
   "outputs": [],
   "source": [
    "# Drops unnessescary columns and does some formatting \n",
    "bu = bu.drop(columns=['_id', 'city', 'is_open', 'state', 'categories'])\n",
    "bu[\"attributes.RestaurantsTakeOut\"].fillna(\"False\", inplace = True)\n",
    "bu[\"attributes.RestaurantsTakeOut\"] = bu[\"attributes.RestaurantsTakeOut\"].replace(\"None\", \"False\")"
   ]
  },
  {
   "cell_type": "code",
   "execution_count": 7,
   "id": "d12cf949",
   "metadata": {},
   "outputs": [],
   "source": [
    "bu = bu.rename(columns={\"attributes.RestaurantsTakeOut\":\"take_out\"})"
   ]
  },
  {
   "cell_type": "code",
   "execution_count": 8,
   "id": "01d1ee6b",
   "metadata": {},
   "outputs": [],
   "source": [
    "bu.to_csv('yelp_business_clean.csv', index=False)"
   ]
  },
  {
   "cell_type": "code",
   "execution_count": 9,
   "id": "2f0c53a2",
   "metadata": {},
   "outputs": [
    {
     "data": {
      "text/html": [
       "<div>\n",
       "<style scoped>\n",
       "    .dataframe tbody tr th:only-of-type {\n",
       "        vertical-align: middle;\n",
       "    }\n",
       "\n",
       "    .dataframe tbody tr th {\n",
       "        vertical-align: top;\n",
       "    }\n",
       "\n",
       "    .dataframe thead th {\n",
       "        text-align: right;\n",
       "    }\n",
       "</style>\n",
       "<table border=\"1\" class=\"dataframe\">\n",
       "  <thead>\n",
       "    <tr style=\"text-align: right;\">\n",
       "      <th></th>\n",
       "      <th>address</th>\n",
       "      <th>take_out</th>\n",
       "      <th>business_id</th>\n",
       "      <th>latitude</th>\n",
       "      <th>longitude</th>\n",
       "      <th>name</th>\n",
       "      <th>review_count</th>\n",
       "      <th>stars</th>\n",
       "    </tr>\n",
       "  </thead>\n",
       "  <tbody>\n",
       "    <tr>\n",
       "      <th>85</th>\n",
       "      <td>131 Anacapa St, Ste C</td>\n",
       "      <td>True</td>\n",
       "      <td>IDtLPgUrqorrpqSLdfMhZQ</td>\n",
       "      <td>34.414445</td>\n",
       "      <td>-119.690672</td>\n",
       "      <td>Helena Avenue Bakery</td>\n",
       "      <td>389</td>\n",
       "      <td>4.0</td>\n",
       "    </tr>\n",
       "    <tr>\n",
       "      <th>141</th>\n",
       "      <td>230 Stearns Wharf</td>\n",
       "      <td>True</td>\n",
       "      <td>SZU9c8V2GuREDN5KgyHFJw</td>\n",
       "      <td>34.408715</td>\n",
       "      <td>-119.685019</td>\n",
       "      <td>Santa Barbara Shellfish Company</td>\n",
       "      <td>2404</td>\n",
       "      <td>4.0</td>\n",
       "    </tr>\n",
       "    <tr>\n",
       "      <th>431</th>\n",
       "      <td>2733 De La Vina St</td>\n",
       "      <td>True</td>\n",
       "      <td>ifjluUv4VASwmFqEp8cWlQ</td>\n",
       "      <td>34.436236</td>\n",
       "      <td>-119.726147</td>\n",
       "      <td>Marty's Pizza</td>\n",
       "      <td>64</td>\n",
       "      <td>4.0</td>\n",
       "    </tr>\n",
       "    <tr>\n",
       "      <th>691</th>\n",
       "      <td>528 Anacapa St</td>\n",
       "      <td>True</td>\n",
       "      <td>-kY_HDP7IMvGl-kBIZVU4A</td>\n",
       "      <td>34.418994</td>\n",
       "      <td>-119.695068</td>\n",
       "      <td>Dune Coffee Roasters - Anacapa</td>\n",
       "      <td>320</td>\n",
       "      <td>4.0</td>\n",
       "    </tr>\n",
       "    <tr>\n",
       "      <th>946</th>\n",
       "      <td>116 Santa Barbara St</td>\n",
       "      <td>True</td>\n",
       "      <td>-ujBP1Dw0j1-Ffaz97-LXQ</td>\n",
       "      <td>34.415747</td>\n",
       "      <td>-119.688480</td>\n",
       "      <td>Lama Dog Tap Room</td>\n",
       "      <td>238</td>\n",
       "      <td>4.0</td>\n",
       "    </tr>\n",
       "  </tbody>\n",
       "</table>\n",
       "</div>"
      ],
      "text/plain": [
       "                   address take_out             business_id   latitude  \\\n",
       "85   131 Anacapa St, Ste C     True  IDtLPgUrqorrpqSLdfMhZQ  34.414445   \n",
       "141      230 Stearns Wharf     True  SZU9c8V2GuREDN5KgyHFJw  34.408715   \n",
       "431     2733 De La Vina St     True  ifjluUv4VASwmFqEp8cWlQ  34.436236   \n",
       "691         528 Anacapa St     True  -kY_HDP7IMvGl-kBIZVU4A  34.418994   \n",
       "946   116 Santa Barbara St     True  -ujBP1Dw0j1-Ffaz97-LXQ  34.415747   \n",
       "\n",
       "      longitude                             name  review_count  stars  \n",
       "85  -119.690672             Helena Avenue Bakery           389    4.0  \n",
       "141 -119.685019  Santa Barbara Shellfish Company          2404    4.0  \n",
       "431 -119.726147                    Marty's Pizza            64    4.0  \n",
       "691 -119.695068   Dune Coffee Roasters - Anacapa           320    4.0  \n",
       "946 -119.688480                Lama Dog Tap Room           238    4.0  "
      ]
     },
     "execution_count": 9,
     "metadata": {},
     "output_type": "execute_result"
    }
   ],
   "source": [
    "bu.head()"
   ]
  },
  {
   "cell_type": "code",
   "execution_count": 10,
   "id": "5c56e53f",
   "metadata": {},
   "outputs": [],
   "source": [
    "re = pd.read_csv(\"yelp_review.csv\")"
   ]
  },
  {
   "cell_type": "code",
   "execution_count": 11,
   "id": "d78bcd57",
   "metadata": {},
   "outputs": [
    {
     "data": {
      "text/html": [
       "<div>\n",
       "<style scoped>\n",
       "    .dataframe tbody tr th:only-of-type {\n",
       "        vertical-align: middle;\n",
       "    }\n",
       "\n",
       "    .dataframe tbody tr th {\n",
       "        vertical-align: top;\n",
       "    }\n",
       "\n",
       "    .dataframe thead th {\n",
       "        text-align: right;\n",
       "    }\n",
       "</style>\n",
       "<table border=\"1\" class=\"dataframe\">\n",
       "  <thead>\n",
       "    <tr style=\"text-align: right;\">\n",
       "      <th></th>\n",
       "      <th>_id</th>\n",
       "      <th>business_id</th>\n",
       "      <th>review_id</th>\n",
       "      <th>stars</th>\n",
       "    </tr>\n",
       "  </thead>\n",
       "  <tbody>\n",
       "    <tr>\n",
       "      <th>0</th>\n",
       "      <td>6410f4de59e3fd5878fd30aa</td>\n",
       "      <td>XQfwVwDr-v0ZS3_CbbE5Xw</td>\n",
       "      <td>KU_O5udG6zpxOg-VcAEodg</td>\n",
       "      <td>3</td>\n",
       "    </tr>\n",
       "    <tr>\n",
       "      <th>1</th>\n",
       "      <td>6410f4de59e3fd5878fd30ab</td>\n",
       "      <td>7ATYjTIgM3jUlt4UM3IypQ</td>\n",
       "      <td>BiTunyQ73aT9WBnpR9DZGw</td>\n",
       "      <td>5</td>\n",
       "    </tr>\n",
       "    <tr>\n",
       "      <th>2</th>\n",
       "      <td>6410f4de59e3fd5878fd30ac</td>\n",
       "      <td>YjUWPpI6HXG530lwP-fb2A</td>\n",
       "      <td>saUsX_uimxRlCVr67Z4Jig</td>\n",
       "      <td>3</td>\n",
       "    </tr>\n",
       "    <tr>\n",
       "      <th>3</th>\n",
       "      <td>6410f4de59e3fd5878fd30ad</td>\n",
       "      <td>kxX2SOes4o-D3ZQBkiMRfA</td>\n",
       "      <td>AqPFMleE6RsU23_auESxiA</td>\n",
       "      <td>5</td>\n",
       "    </tr>\n",
       "    <tr>\n",
       "      <th>4</th>\n",
       "      <td>6410f4de59e3fd5878fd30ae</td>\n",
       "      <td>e4Vwtrqf-wpJfwesgvdgxQ</td>\n",
       "      <td>Sx8TMOWLNuJBWer-0pcmoA</td>\n",
       "      <td>4</td>\n",
       "    </tr>\n",
       "  </tbody>\n",
       "</table>\n",
       "</div>"
      ],
      "text/plain": [
       "                        _id             business_id               review_id  \\\n",
       "0  6410f4de59e3fd5878fd30aa  XQfwVwDr-v0ZS3_CbbE5Xw  KU_O5udG6zpxOg-VcAEodg   \n",
       "1  6410f4de59e3fd5878fd30ab  7ATYjTIgM3jUlt4UM3IypQ  BiTunyQ73aT9WBnpR9DZGw   \n",
       "2  6410f4de59e3fd5878fd30ac  YjUWPpI6HXG530lwP-fb2A  saUsX_uimxRlCVr67Z4Jig   \n",
       "3  6410f4de59e3fd5878fd30ad  kxX2SOes4o-D3ZQBkiMRfA  AqPFMleE6RsU23_auESxiA   \n",
       "4  6410f4de59e3fd5878fd30ae  e4Vwtrqf-wpJfwesgvdgxQ  Sx8TMOWLNuJBWer-0pcmoA   \n",
       "\n",
       "   stars  \n",
       "0      3  \n",
       "1      5  \n",
       "2      3  \n",
       "3      5  \n",
       "4      4  "
      ]
     },
     "execution_count": 11,
     "metadata": {},
     "output_type": "execute_result"
    }
   ],
   "source": [
    "re.head()"
   ]
  },
  {
   "cell_type": "code",
   "execution_count": 12,
   "id": "c41b8c50",
   "metadata": {},
   "outputs": [],
   "source": [
    "re = re.drop(columns=['_id'])"
   ]
  },
  {
   "cell_type": "code",
   "execution_count": 13,
   "id": "2beea246",
   "metadata": {},
   "outputs": [],
   "source": [
    "re = pd.merge(bu, re, how ='inner', on =['business_id']).drop(columns=[\"address\", \"take_out\", \"latitude\", \"longitude\", \"name\", \n",
    "                                                               \"review_count\", \"stars_x\"]).rename(columns={\"stars_y\":\"stars\"})"
   ]
  },
  {
   "cell_type": "code",
   "execution_count": 17,
   "id": "a57f898e",
   "metadata": {},
   "outputs": [
    {
     "name": "stdout",
     "output_type": "stream",
     "text": [
      "<class 'pandas.core.frame.DataFrame'>\n",
      "Int64Index: 147588 entries, 0 to 147587\n",
      "Data columns (total 3 columns):\n",
      " #   Column       Non-Null Count   Dtype \n",
      "---  ------       --------------   ----- \n",
      " 0   business_id  147588 non-null  object\n",
      " 1   review_id    147588 non-null  object\n",
      " 2   stars        147588 non-null  int64 \n",
      "dtypes: int64(1), object(2)\n",
      "memory usage: 4.5+ MB\n"
     ]
    }
   ],
   "source": [
    "re.info()"
   ]
  },
  {
   "cell_type": "code",
   "execution_count": 65,
   "id": "14a28815",
   "metadata": {},
   "outputs": [],
   "source": [
    "re.to_csv('yelp_review_clean.csv', index=False)"
   ]
  },
  {
   "cell_type": "code",
   "execution_count": 95,
   "id": "a9c87779",
   "metadata": {},
   "outputs": [],
   "source": [
    "st = re.groupby([\"business_id\", \"stars\"]).count()"
   ]
  },
  {
   "cell_type": "code",
   "execution_count": 112,
   "id": "492f21c1",
   "metadata": {},
   "outputs": [
    {
     "ename": "KeyError",
     "evalue": "('IDtLPgUrqorrpqSLdfMhZQ', 1)",
     "output_type": "error",
     "traceback": [
      "\u001b[1;31m---------------------------------------------------------------------------\u001b[0m",
      "\u001b[1;31mKeyError\u001b[0m                                  Traceback (most recent call last)",
      "File \u001b[1;32m~\\School\\Anaconda\\envs\\ml\\lib\\site-packages\\pandas\\core\\indexes\\base.py:3803\u001b[0m, in \u001b[0;36mIndex.get_loc\u001b[1;34m(self, key, method, tolerance)\u001b[0m\n\u001b[0;32m   3802\u001b[0m \u001b[38;5;28;01mtry\u001b[39;00m:\n\u001b[1;32m-> 3803\u001b[0m     \u001b[38;5;28;01mreturn\u001b[39;00m \u001b[38;5;28;43mself\u001b[39;49m\u001b[38;5;241;43m.\u001b[39;49m\u001b[43m_engine\u001b[49m\u001b[38;5;241;43m.\u001b[39;49m\u001b[43mget_loc\u001b[49m\u001b[43m(\u001b[49m\u001b[43mcasted_key\u001b[49m\u001b[43m)\u001b[49m\n\u001b[0;32m   3804\u001b[0m \u001b[38;5;28;01mexcept\u001b[39;00m \u001b[38;5;167;01mKeyError\u001b[39;00m \u001b[38;5;28;01mas\u001b[39;00m err:\n",
      "File \u001b[1;32m~\\School\\Anaconda\\envs\\ml\\lib\\site-packages\\pandas\\_libs\\index.pyx:138\u001b[0m, in \u001b[0;36mpandas._libs.index.IndexEngine.get_loc\u001b[1;34m()\u001b[0m\n",
      "File \u001b[1;32m~\\School\\Anaconda\\envs\\ml\\lib\\site-packages\\pandas\\_libs\\index.pyx:165\u001b[0m, in \u001b[0;36mpandas._libs.index.IndexEngine.get_loc\u001b[1;34m()\u001b[0m\n",
      "File \u001b[1;32mpandas\\_libs\\hashtable_class_helper.pxi:5745\u001b[0m, in \u001b[0;36mpandas._libs.hashtable.PyObjectHashTable.get_item\u001b[1;34m()\u001b[0m\n",
      "File \u001b[1;32mpandas\\_libs\\hashtable_class_helper.pxi:5753\u001b[0m, in \u001b[0;36mpandas._libs.hashtable.PyObjectHashTable.get_item\u001b[1;34m()\u001b[0m\n",
      "\u001b[1;31mKeyError\u001b[0m: ('IDtLPgUrqorrpqSLdfMhZQ', 1)",
      "\nThe above exception was the direct cause of the following exception:\n",
      "\u001b[1;31mKeyError\u001b[0m                                  Traceback (most recent call last)",
      "Cell \u001b[1;32mIn[112], line 1\u001b[0m\n\u001b[1;32m----> 1\u001b[0m \u001b[43mst\u001b[49m\u001b[43m[\u001b[49m\u001b[43m(\u001b[49m\u001b[38;5;124;43m\"\u001b[39;49m\u001b[38;5;124;43mIDtLPgUrqorrpqSLdfMhZQ\u001b[39;49m\u001b[38;5;124;43m\"\u001b[39;49m\u001b[43m,\u001b[49m\u001b[43m \u001b[49m\u001b[38;5;241;43m1\u001b[39;49m\u001b[43m)\u001b[49m\u001b[43m]\u001b[49m\n",
      "File \u001b[1;32m~\\School\\Anaconda\\envs\\ml\\lib\\site-packages\\pandas\\core\\frame.py:3805\u001b[0m, in \u001b[0;36mDataFrame.__getitem__\u001b[1;34m(self, key)\u001b[0m\n\u001b[0;32m   3803\u001b[0m \u001b[38;5;28;01mif\u001b[39;00m \u001b[38;5;28mself\u001b[39m\u001b[38;5;241m.\u001b[39mcolumns\u001b[38;5;241m.\u001b[39mnlevels \u001b[38;5;241m>\u001b[39m \u001b[38;5;241m1\u001b[39m:\n\u001b[0;32m   3804\u001b[0m     \u001b[38;5;28;01mreturn\u001b[39;00m \u001b[38;5;28mself\u001b[39m\u001b[38;5;241m.\u001b[39m_getitem_multilevel(key)\n\u001b[1;32m-> 3805\u001b[0m indexer \u001b[38;5;241m=\u001b[39m \u001b[38;5;28;43mself\u001b[39;49m\u001b[38;5;241;43m.\u001b[39;49m\u001b[43mcolumns\u001b[49m\u001b[38;5;241;43m.\u001b[39;49m\u001b[43mget_loc\u001b[49m\u001b[43m(\u001b[49m\u001b[43mkey\u001b[49m\u001b[43m)\u001b[49m\n\u001b[0;32m   3806\u001b[0m \u001b[38;5;28;01mif\u001b[39;00m is_integer(indexer):\n\u001b[0;32m   3807\u001b[0m     indexer \u001b[38;5;241m=\u001b[39m [indexer]\n",
      "File \u001b[1;32m~\\School\\Anaconda\\envs\\ml\\lib\\site-packages\\pandas\\core\\indexes\\base.py:3805\u001b[0m, in \u001b[0;36mIndex.get_loc\u001b[1;34m(self, key, method, tolerance)\u001b[0m\n\u001b[0;32m   3803\u001b[0m     \u001b[38;5;28;01mreturn\u001b[39;00m \u001b[38;5;28mself\u001b[39m\u001b[38;5;241m.\u001b[39m_engine\u001b[38;5;241m.\u001b[39mget_loc(casted_key)\n\u001b[0;32m   3804\u001b[0m \u001b[38;5;28;01mexcept\u001b[39;00m \u001b[38;5;167;01mKeyError\u001b[39;00m \u001b[38;5;28;01mas\u001b[39;00m err:\n\u001b[1;32m-> 3805\u001b[0m     \u001b[38;5;28;01mraise\u001b[39;00m \u001b[38;5;167;01mKeyError\u001b[39;00m(key) \u001b[38;5;28;01mfrom\u001b[39;00m \u001b[38;5;21;01merr\u001b[39;00m\n\u001b[0;32m   3806\u001b[0m \u001b[38;5;28;01mexcept\u001b[39;00m \u001b[38;5;167;01mTypeError\u001b[39;00m:\n\u001b[0;32m   3807\u001b[0m     \u001b[38;5;66;03m# If we have a listlike key, _check_indexing_error will raise\u001b[39;00m\n\u001b[0;32m   3808\u001b[0m     \u001b[38;5;66;03m#  InvalidIndexError. Otherwise we fall through and re-raise\u001b[39;00m\n\u001b[0;32m   3809\u001b[0m     \u001b[38;5;66;03m#  the TypeError.\u001b[39;00m\n\u001b[0;32m   3810\u001b[0m     \u001b[38;5;28mself\u001b[39m\u001b[38;5;241m.\u001b[39m_check_indexing_error(key)\n",
      "\u001b[1;31mKeyError\u001b[0m: ('IDtLPgUrqorrpqSLdfMhZQ', 1)"
     ]
    }
   ],
   "source": []
  },
  {
   "cell_type": "code",
   "execution_count": 103,
   "id": "5af44ca3",
   "metadata": {},
   "outputs": [
    {
     "name": "stdout",
     "output_type": "stream",
     "text": [
      "2912\n",
      "3355\n"
     ]
    }
   ],
   "source": [
    "ints = [1,2,3,4,5]\n",
    "print(len(st))\n",
    "for i in bu[\"business_id\"]:\n",
    "    for j in ints:\n",
    "        if (i,j) not in st.index:\n",
    "            add = pd.Series([0], index=[(i,j)])\n",
    "            st = pd.concat([st, add])\n",
    "print(len(st))"
   ]
  },
  {
   "cell_type": "code",
   "execution_count": null,
   "id": "42d1aa7d",
   "metadata": {},
   "outputs": [],
   "source": []
  },
  {
   "cell_type": "code",
   "execution_count": 104,
   "id": "bede71fb",
   "metadata": {},
   "outputs": [],
   "source": [
    "fin = pd.merge(bu, st, how='inner', on='business_id')"
   ]
  },
  {
   "cell_type": "code",
   "execution_count": 120,
   "id": "52942cfa",
   "metadata": {},
   "outputs": [
    {
     "name": "stdout",
     "output_type": "stream",
     "text": [
      "MultiIndex([('-3AooxIkg38UyUdlz5oXdw', 1),\n",
      "            ('-3AooxIkg38UyUdlz5oXdw', 2),\n",
      "            ('-3AooxIkg38UyUdlz5oXdw', 3),\n",
      "            ('-3AooxIkg38UyUdlz5oXdw', 4),\n",
      "            ('-3AooxIkg38UyUdlz5oXdw', 5),\n",
      "            ('-6jvfSJGprbfBD2QrS9zQw', 5),\n",
      "            ('-ALqLSTzkGDMscHdxA1NgA', 2),\n",
      "            ('-ALqLSTzkGDMscHdxA1NgA', 3),\n",
      "            ('-ALqLSTzkGDMscHdxA1NgA', 4),\n",
      "            ('-ALqLSTzkGDMscHdxA1NgA', 5),\n",
      "            ...\n",
      "            ('wAPXYljzn9YDTvQqqL54pw', 2),\n",
      "            ('HKHz6u48Qgftwk_VRkLqSA', 1),\n",
      "            ('HKHz6u48Qgftwk_VRkLqSA', 2),\n",
      "            ('HKHz6u48Qgftwk_VRkLqSA', 3),\n",
      "            ('IRBhPAC4ZoDpXazpoB3epQ', 1),\n",
      "            ('IRBhPAC4ZoDpXazpoB3epQ', 2),\n",
      "            ('IRBhPAC4ZoDpXazpoB3epQ', 3),\n",
      "            ('Bo-GGwQNcLVwyKeYkbfAYg', 1),\n",
      "            ('Bo-GGwQNcLVwyKeYkbfAYg', 2),\n",
      "            ('Bo-GGwQNcLVwyKeYkbfAYg', 3)],\n",
      "           names=['business_id', 'stars'], length=3355)\n"
     ]
    }
   ],
   "source": [
    "print(st.index)"
   ]
  },
  {
   "cell_type": "code",
   "execution_count": 122,
   "id": "e9895148",
   "metadata": {},
   "outputs": [
    {
     "ename": "KeyError",
     "evalue": "('-3AooxIkg38UyUdlz5oXdw', 1)",
     "output_type": "error",
     "traceback": [
      "\u001b[1;31m---------------------------------------------------------------------------\u001b[0m",
      "\u001b[1;31mKeyError\u001b[0m                                  Traceback (most recent call last)",
      "File \u001b[1;32m~\\School\\Anaconda\\envs\\ml\\lib\\site-packages\\pandas\\core\\indexes\\base.py:3803\u001b[0m, in \u001b[0;36mIndex.get_loc\u001b[1;34m(self, key, method, tolerance)\u001b[0m\n\u001b[0;32m   3802\u001b[0m \u001b[38;5;28;01mtry\u001b[39;00m:\n\u001b[1;32m-> 3803\u001b[0m     \u001b[38;5;28;01mreturn\u001b[39;00m \u001b[38;5;28;43mself\u001b[39;49m\u001b[38;5;241;43m.\u001b[39;49m\u001b[43m_engine\u001b[49m\u001b[38;5;241;43m.\u001b[39;49m\u001b[43mget_loc\u001b[49m\u001b[43m(\u001b[49m\u001b[43mcasted_key\u001b[49m\u001b[43m)\u001b[49m\n\u001b[0;32m   3804\u001b[0m \u001b[38;5;28;01mexcept\u001b[39;00m \u001b[38;5;167;01mKeyError\u001b[39;00m \u001b[38;5;28;01mas\u001b[39;00m err:\n",
      "File \u001b[1;32m~\\School\\Anaconda\\envs\\ml\\lib\\site-packages\\pandas\\_libs\\index.pyx:138\u001b[0m, in \u001b[0;36mpandas._libs.index.IndexEngine.get_loc\u001b[1;34m()\u001b[0m\n",
      "File \u001b[1;32m~\\School\\Anaconda\\envs\\ml\\lib\\site-packages\\pandas\\_libs\\index.pyx:165\u001b[0m, in \u001b[0;36mpandas._libs.index.IndexEngine.get_loc\u001b[1;34m()\u001b[0m\n",
      "File \u001b[1;32mpandas\\_libs\\hashtable_class_helper.pxi:5745\u001b[0m, in \u001b[0;36mpandas._libs.hashtable.PyObjectHashTable.get_item\u001b[1;34m()\u001b[0m\n",
      "File \u001b[1;32mpandas\\_libs\\hashtable_class_helper.pxi:5753\u001b[0m, in \u001b[0;36mpandas._libs.hashtable.PyObjectHashTable.get_item\u001b[1;34m()\u001b[0m\n",
      "\u001b[1;31mKeyError\u001b[0m: ('-3AooxIkg38UyUdlz5oXdw', 1)",
      "\nThe above exception was the direct cause of the following exception:\n",
      "\u001b[1;31mKeyError\u001b[0m                                  Traceback (most recent call last)",
      "Cell \u001b[1;32mIn[122], line 1\u001b[0m\n\u001b[1;32m----> 1\u001b[0m \u001b[38;5;28mprint\u001b[39m(\u001b[43mst\u001b[49m\u001b[43m[\u001b[49m\u001b[38;5;124;43m'\u001b[39;49m\u001b[38;5;124;43m-3AooxIkg38UyUdlz5oXdw\u001b[39;49m\u001b[38;5;124;43m'\u001b[39;49m\u001b[43m,\u001b[49m\u001b[43m \u001b[49m\u001b[38;5;241;43m1\u001b[39;49m\u001b[43m]\u001b[49m)\n",
      "File \u001b[1;32m~\\School\\Anaconda\\envs\\ml\\lib\\site-packages\\pandas\\core\\frame.py:3805\u001b[0m, in \u001b[0;36mDataFrame.__getitem__\u001b[1;34m(self, key)\u001b[0m\n\u001b[0;32m   3803\u001b[0m \u001b[38;5;28;01mif\u001b[39;00m \u001b[38;5;28mself\u001b[39m\u001b[38;5;241m.\u001b[39mcolumns\u001b[38;5;241m.\u001b[39mnlevels \u001b[38;5;241m>\u001b[39m \u001b[38;5;241m1\u001b[39m:\n\u001b[0;32m   3804\u001b[0m     \u001b[38;5;28;01mreturn\u001b[39;00m \u001b[38;5;28mself\u001b[39m\u001b[38;5;241m.\u001b[39m_getitem_multilevel(key)\n\u001b[1;32m-> 3805\u001b[0m indexer \u001b[38;5;241m=\u001b[39m \u001b[38;5;28;43mself\u001b[39;49m\u001b[38;5;241;43m.\u001b[39;49m\u001b[43mcolumns\u001b[49m\u001b[38;5;241;43m.\u001b[39;49m\u001b[43mget_loc\u001b[49m\u001b[43m(\u001b[49m\u001b[43mkey\u001b[49m\u001b[43m)\u001b[49m\n\u001b[0;32m   3806\u001b[0m \u001b[38;5;28;01mif\u001b[39;00m is_integer(indexer):\n\u001b[0;32m   3807\u001b[0m     indexer \u001b[38;5;241m=\u001b[39m [indexer]\n",
      "File \u001b[1;32m~\\School\\Anaconda\\envs\\ml\\lib\\site-packages\\pandas\\core\\indexes\\base.py:3805\u001b[0m, in \u001b[0;36mIndex.get_loc\u001b[1;34m(self, key, method, tolerance)\u001b[0m\n\u001b[0;32m   3803\u001b[0m     \u001b[38;5;28;01mreturn\u001b[39;00m \u001b[38;5;28mself\u001b[39m\u001b[38;5;241m.\u001b[39m_engine\u001b[38;5;241m.\u001b[39mget_loc(casted_key)\n\u001b[0;32m   3804\u001b[0m \u001b[38;5;28;01mexcept\u001b[39;00m \u001b[38;5;167;01mKeyError\u001b[39;00m \u001b[38;5;28;01mas\u001b[39;00m err:\n\u001b[1;32m-> 3805\u001b[0m     \u001b[38;5;28;01mraise\u001b[39;00m \u001b[38;5;167;01mKeyError\u001b[39;00m(key) \u001b[38;5;28;01mfrom\u001b[39;00m \u001b[38;5;21;01merr\u001b[39;00m\n\u001b[0;32m   3806\u001b[0m \u001b[38;5;28;01mexcept\u001b[39;00m \u001b[38;5;167;01mTypeError\u001b[39;00m:\n\u001b[0;32m   3807\u001b[0m     \u001b[38;5;66;03m# If we have a listlike key, _check_indexing_error will raise\u001b[39;00m\n\u001b[0;32m   3808\u001b[0m     \u001b[38;5;66;03m#  InvalidIndexError. Otherwise we fall through and re-raise\u001b[39;00m\n\u001b[0;32m   3809\u001b[0m     \u001b[38;5;66;03m#  the TypeError.\u001b[39;00m\n\u001b[0;32m   3810\u001b[0m     \u001b[38;5;28mself\u001b[39m\u001b[38;5;241m.\u001b[39m_check_indexing_error(key)\n",
      "\u001b[1;31mKeyError\u001b[0m: ('-3AooxIkg38UyUdlz5oXdw', 1)"
     ]
    }
   ],
   "source": [
    "print(st['-3AooxIkg38UyUdlz5oXdw', 1])"
   ]
  },
  {
   "cell_type": "code",
   "execution_count": 114,
   "id": "51491933",
   "metadata": {},
   "outputs": [
    {
     "name": "stdout",
     "output_type": "stream",
     "text": [
      "('-3AooxIkg38UyUdlz5oXdw', 1)\n"
     ]
    },
    {
     "ename": "KeyError",
     "evalue": "('-3AooxIkg38UyUdlz5oXdw', 1)",
     "output_type": "error",
     "traceback": [
      "\u001b[1;31m---------------------------------------------------------------------------\u001b[0m",
      "\u001b[1;31mKeyError\u001b[0m                                  Traceback (most recent call last)",
      "File \u001b[1;32m~\\School\\Anaconda\\envs\\ml\\lib\\site-packages\\pandas\\core\\indexes\\base.py:3803\u001b[0m, in \u001b[0;36mIndex.get_loc\u001b[1;34m(self, key, method, tolerance)\u001b[0m\n\u001b[0;32m   3802\u001b[0m \u001b[38;5;28;01mtry\u001b[39;00m:\n\u001b[1;32m-> 3803\u001b[0m     \u001b[38;5;28;01mreturn\u001b[39;00m \u001b[38;5;28;43mself\u001b[39;49m\u001b[38;5;241;43m.\u001b[39;49m\u001b[43m_engine\u001b[49m\u001b[38;5;241;43m.\u001b[39;49m\u001b[43mget_loc\u001b[49m\u001b[43m(\u001b[49m\u001b[43mcasted_key\u001b[49m\u001b[43m)\u001b[49m\n\u001b[0;32m   3804\u001b[0m \u001b[38;5;28;01mexcept\u001b[39;00m \u001b[38;5;167;01mKeyError\u001b[39;00m \u001b[38;5;28;01mas\u001b[39;00m err:\n",
      "File \u001b[1;32m~\\School\\Anaconda\\envs\\ml\\lib\\site-packages\\pandas\\_libs\\index.pyx:138\u001b[0m, in \u001b[0;36mpandas._libs.index.IndexEngine.get_loc\u001b[1;34m()\u001b[0m\n",
      "File \u001b[1;32m~\\School\\Anaconda\\envs\\ml\\lib\\site-packages\\pandas\\_libs\\index.pyx:165\u001b[0m, in \u001b[0;36mpandas._libs.index.IndexEngine.get_loc\u001b[1;34m()\u001b[0m\n",
      "File \u001b[1;32mpandas\\_libs\\hashtable_class_helper.pxi:5745\u001b[0m, in \u001b[0;36mpandas._libs.hashtable.PyObjectHashTable.get_item\u001b[1;34m()\u001b[0m\n",
      "File \u001b[1;32mpandas\\_libs\\hashtable_class_helper.pxi:5753\u001b[0m, in \u001b[0;36mpandas._libs.hashtable.PyObjectHashTable.get_item\u001b[1;34m()\u001b[0m\n",
      "\u001b[1;31mKeyError\u001b[0m: ('-3AooxIkg38UyUdlz5oXdw', 1)",
      "\nThe above exception was the direct cause of the following exception:\n",
      "\u001b[1;31mKeyError\u001b[0m                                  Traceback (most recent call last)",
      "Cell \u001b[1;32mIn[114], line 7\u001b[0m\n\u001b[0;32m      4\u001b[0m     \u001b[38;5;28;01mif\u001b[39;00m key[\u001b[38;5;241m0\u001b[39m] \u001b[38;5;129;01mnot\u001b[39;00m \u001b[38;5;129;01min\u001b[39;00m stars:\n\u001b[0;32m      5\u001b[0m         stars[key[\u001b[38;5;241m0\u001b[39m]] \u001b[38;5;241m=\u001b[39m [\u001b[38;5;241m0\u001b[39m,\u001b[38;5;241m0\u001b[39m,\u001b[38;5;241m0\u001b[39m,\u001b[38;5;241m0\u001b[39m,\u001b[38;5;241m0\u001b[39m]\n\u001b[1;32m----> 7\u001b[0m     stars[key[\u001b[38;5;241m0\u001b[39m]][key[\u001b[38;5;241m1\u001b[39m]] \u001b[38;5;241m=\u001b[39m \u001b[43mst\u001b[49m\u001b[43m[\u001b[49m\u001b[43mkey\u001b[49m\u001b[43m]\u001b[49m\n\u001b[0;32m      9\u001b[0m \u001b[38;5;28mprint\u001b[39m(stars)\n",
      "File \u001b[1;32m~\\School\\Anaconda\\envs\\ml\\lib\\site-packages\\pandas\\core\\frame.py:3805\u001b[0m, in \u001b[0;36mDataFrame.__getitem__\u001b[1;34m(self, key)\u001b[0m\n\u001b[0;32m   3803\u001b[0m \u001b[38;5;28;01mif\u001b[39;00m \u001b[38;5;28mself\u001b[39m\u001b[38;5;241m.\u001b[39mcolumns\u001b[38;5;241m.\u001b[39mnlevels \u001b[38;5;241m>\u001b[39m \u001b[38;5;241m1\u001b[39m:\n\u001b[0;32m   3804\u001b[0m     \u001b[38;5;28;01mreturn\u001b[39;00m \u001b[38;5;28mself\u001b[39m\u001b[38;5;241m.\u001b[39m_getitem_multilevel(key)\n\u001b[1;32m-> 3805\u001b[0m indexer \u001b[38;5;241m=\u001b[39m \u001b[38;5;28;43mself\u001b[39;49m\u001b[38;5;241;43m.\u001b[39;49m\u001b[43mcolumns\u001b[49m\u001b[38;5;241;43m.\u001b[39;49m\u001b[43mget_loc\u001b[49m\u001b[43m(\u001b[49m\u001b[43mkey\u001b[49m\u001b[43m)\u001b[49m\n\u001b[0;32m   3806\u001b[0m \u001b[38;5;28;01mif\u001b[39;00m is_integer(indexer):\n\u001b[0;32m   3807\u001b[0m     indexer \u001b[38;5;241m=\u001b[39m [indexer]\n",
      "File \u001b[1;32m~\\School\\Anaconda\\envs\\ml\\lib\\site-packages\\pandas\\core\\indexes\\base.py:3805\u001b[0m, in \u001b[0;36mIndex.get_loc\u001b[1;34m(self, key, method, tolerance)\u001b[0m\n\u001b[0;32m   3803\u001b[0m     \u001b[38;5;28;01mreturn\u001b[39;00m \u001b[38;5;28mself\u001b[39m\u001b[38;5;241m.\u001b[39m_engine\u001b[38;5;241m.\u001b[39mget_loc(casted_key)\n\u001b[0;32m   3804\u001b[0m \u001b[38;5;28;01mexcept\u001b[39;00m \u001b[38;5;167;01mKeyError\u001b[39;00m \u001b[38;5;28;01mas\u001b[39;00m err:\n\u001b[1;32m-> 3805\u001b[0m     \u001b[38;5;28;01mraise\u001b[39;00m \u001b[38;5;167;01mKeyError\u001b[39;00m(key) \u001b[38;5;28;01mfrom\u001b[39;00m \u001b[38;5;21;01merr\u001b[39;00m\n\u001b[0;32m   3806\u001b[0m \u001b[38;5;28;01mexcept\u001b[39;00m \u001b[38;5;167;01mTypeError\u001b[39;00m:\n\u001b[0;32m   3807\u001b[0m     \u001b[38;5;66;03m# If we have a listlike key, _check_indexing_error will raise\u001b[39;00m\n\u001b[0;32m   3808\u001b[0m     \u001b[38;5;66;03m#  InvalidIndexError. Otherwise we fall through and re-raise\u001b[39;00m\n\u001b[0;32m   3809\u001b[0m     \u001b[38;5;66;03m#  the TypeError.\u001b[39;00m\n\u001b[0;32m   3810\u001b[0m     \u001b[38;5;28mself\u001b[39m\u001b[38;5;241m.\u001b[39m_check_indexing_error(key)\n",
      "\u001b[1;31mKeyError\u001b[0m: ('-3AooxIkg38UyUdlz5oXdw', 1)"
     ]
    }
   ],
   "source": [
    "stars = {}\n",
    "for key in st.index:\n",
    "    print(key)\n",
    "    if key[0] not in stars:\n",
    "        stars[key[0]] = [0,0,0,0,0]\n",
    "\n",
    "    stars[key[0]][key[1]] = st[key]\n",
    "        \n",
    "print(stars)"
   ]
  },
  {
   "cell_type": "code",
   "execution_count": null,
   "id": "9e49291b",
   "metadata": {},
   "outputs": [],
   "source": []
  }
 ],
 "metadata": {
  "kernelspec": {
   "display_name": "Python 3 (ipykernel)",
   "language": "python",
   "name": "python3"
  },
  "language_info": {
   "codemirror_mode": {
    "name": "ipython",
    "version": 3
   },
   "file_extension": ".py",
   "mimetype": "text/x-python",
   "name": "python",
   "nbconvert_exporter": "python",
   "pygments_lexer": "ipython3",
   "version": "3.9.15"
  }
 },
 "nbformat": 4,
 "nbformat_minor": 5
}
